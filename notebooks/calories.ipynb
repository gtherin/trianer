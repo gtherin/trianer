{
 "cells": [
  {
   "cell_type": "code",
   "execution_count": 1,
   "metadata": {
    "slideshow": {
     "slide_type": "skip"
    }
   },
   "outputs": [
    {
     "data": {
      "text/html": [
       "        <script type=\"text/javascript\">\n",
       "        window.PlotlyConfig = {MathJaxConfig: 'local'};\n",
       "        if (window.MathJax && window.MathJax.Hub && window.MathJax.Hub.Config) {window.MathJax.Hub.Config({SVG: {font: \"STIX-Web\"}});}\n",
       "        if (typeof require !== 'undefined') {\n",
       "        require.undef(\"plotly\");\n",
       "        requirejs.config({\n",
       "            paths: {\n",
       "                'plotly': ['https://cdn.plot.ly/plotly-2.12.1.min']\n",
       "            }\n",
       "        });\n",
       "        require(['plotly'], function(Plotly) {\n",
       "            window._Plotly = Plotly;\n",
       "        });\n",
       "        }\n",
       "        </script>\n",
       "        "
      ]
     },
     "metadata": {},
     "output_type": "display_data"
    }
   ],
   "source": [
    "#%%capture\n",
    "\n",
    "import pandas as pd\n",
    "import numpy as np\n",
    "import scipy as sp\n",
    "import plotly\n",
    "import folium\n",
    "import os\n",
    "\n",
    "import plotly.io as pio\n",
    "pio.renderers.default='notebook'\n",
    "\n",
    "from plotly.subplots import make_subplots\n",
    "import plotly.graph_objects as go\n",
    "import matplotlib.pyplot as plt\n",
    "import ipywidgets\n",
    "from IPython.core.display import HTML\n",
    "from IPython.display import display, clear_output\n",
    "import datetime\n",
    "from io import StringIO\n",
    "\n",
    "\n",
    "import seaborn as sns\n",
    "from sklearn.metrics import mean_absolute_error, r2_score\n",
    "from sklearn.model_selection import train_test_split\n",
    "from sklearn import linear_model\n",
    "from sklearn import metrics\n",
    "\n",
    "import trianer\n",
    "\n",
    "plotly.offline.init_notebook_mode(connected=True)\n",
    "\n",
    "%matplotlib inline\n",
    "%reload_ext autoreload\n",
    "%autoreload 2"
   ]
  },
  {
   "cell_type": "markdown",
   "metadata": {},
   "source": [
    "\n",
    "\n",
    "- \n",
    "- Research in alpha signal to predict market moves"
   ]
  },
  {
   "cell_type": "code",
   "execution_count": 2,
   "metadata": {},
   "outputs": [
    {
     "name": "stderr",
     "output_type": "stream",
     "text": [
      "2022-09-21 16:35:44.256 \n",
      "Warning: the config option 'server.enableCORS=false' is not compatible with 'server.enableXsrfProtection=true'.\n",
      "As a result, 'server.enableCORS' is being overridden to 'true'.\n",
      "\n",
      "More information:\n",
      "In order to protect against CSRF attacks, we send a cookie with each request.\n",
      "To do so, we must specify allowable origins, which places a restriction on\n",
      "cross-origin resource sharing.\n",
      "\n",
      "If cross origin resource sharing is required, please disable server.enableXsrfProtection.\n",
      "            \n",
      "2022-09-21 16:35:44.259 \n",
      "  \u001b[33m\u001b[1mWarning:\u001b[0m to view this Streamlit app on a browser, run it with the following\n",
      "  command:\n",
      "\n",
      "    streamlit run /opt/miniconda/envs/trianer_py3.10/lib/python3.10/site-packages/ipykernel_launcher.py [ARGUMENTS]\n"
     ]
    },
    {
     "data": {
      "text/plain": [
       "<trianer.race.Race at 0x7fa25a6a6500>"
      ]
     },
     "execution_count": 2,
     "metadata": {},
     "output_type": "execute_result"
    }
   ],
   "source": [
    "trianer.Race(name=\"Bois-le-Roi (M)\")"
   ]
  },
  {
   "cell_type": "code",
   "execution_count": 3,
   "metadata": {},
   "outputs": [
    {
     "name": "stdout",
     "output_type": "stream",
     "text": [
      "swimming:1.9,cycling:80.3:1366,running:20:306\n",
      "swimming:3.8,cycling:180,running:42.195\n",
      "swimming:0.65,cycling:20,running:5\n",
      "Elsassman (L) swimming: 1.9km cycling: 80.3km  (D+=1366m) running: 20km  (D+=306m) \n",
      "Ironman swimming: 3.8km cycling: 180km running: 42.195km \n",
      "Triathlon (S) swimming: 0.65km cycling: 20km running: 5km \n"
     ]
    }
   ],
   "source": [
    "print(trianer.Race(name=\"Elsassman (L)\").get_key())\n",
    "print(trianer.Race(name=\"Ironman\").get_key())\n",
    "print(trianer.Race(name=\"Triathlon (S)\").get_key())\n",
    "print(trianer.Race(name=\"Elsassman (L)\").get_info())\n",
    "print(trianer.Race(name=\"Ironman\").get_info())\n",
    "print(trianer.Race(name=\"Triathlon (S)\").get_info())"
   ]
  },
  {
   "cell_type": "code",
   "execution_count": 4,
   "metadata": {},
   "outputs": [
    {
     "ename": "TypeError",
     "evalue": "Race.__init__() got an unexpected keyword argument 'epreuve'",
     "output_type": "error",
     "traceback": [
      "\u001b[0;31m---------------------------------------------------------------------------\u001b[0m",
      "\u001b[0;31mTypeError\u001b[0m                                 Traceback (most recent call last)",
      "Input \u001b[0;32mIn [4]\u001b[0m, in \u001b[0;36m<cell line: 10>\u001b[0;34m()\u001b[0m\n\u001b[1;32m      1\u001b[0m athlete \u001b[38;5;241m=\u001b[39m trianer\u001b[38;5;241m.\u001b[39mAthlete(\n\u001b[1;32m      2\u001b[0m         config\u001b[38;5;241m=\u001b[39m{\n\u001b[1;32m      3\u001b[0m \u001b[38;5;124m\"\u001b[39m\u001b[38;5;124mswimming_sX100m\u001b[39m\u001b[38;5;124m\"\u001b[39m:datetime\u001b[38;5;241m.\u001b[39mtime(\u001b[38;5;241m2\u001b[39m, \u001b[38;5;241m35\u001b[39m),\n\u001b[0;32m   (...)\u001b[0m\n\u001b[1;32m      8\u001b[0m \u001b[38;5;124m\"\u001b[39m\u001b[38;5;124mweight_kg\u001b[39m\u001b[38;5;124m\"\u001b[39m:\u001b[38;5;241m70\u001b[39m\n\u001b[1;32m      9\u001b[0m })\n\u001b[0;32m---> 10\u001b[0m race \u001b[38;5;241m=\u001b[39m \u001b[43mtrianer\u001b[49m\u001b[38;5;241;43m.\u001b[39;49m\u001b[43mRace\u001b[49m\u001b[43m(\u001b[49m\u001b[43mepreuve\u001b[49m\u001b[38;5;241;43m=\u001b[39;49m\u001b[38;5;124;43m\"\u001b[39;49m\u001b[38;5;124;43mElsassman (L)\u001b[39;49m\u001b[38;5;124;43m\"\u001b[39;49m\u001b[43m)\u001b[49m\n\u001b[1;32m     11\u001b[0m simulation \u001b[38;5;241m=\u001b[39m trianer\u001b[38;5;241m.\u001b[39mTriathlon(race\u001b[38;5;241m=\u001b[39mrace, athlete\u001b[38;5;241m=\u001b[39mathlete)\n",
      "\u001b[0;31mTypeError\u001b[0m: Race.__init__() got an unexpected keyword argument 'epreuve'"
     ]
    }
   ],
   "source": [
    "athlete = trianer.Athlete(\n",
    "        config={\n",
    "\"swimming_sX100m\":datetime.time(2, 35),\n",
    "\"cycling_kmXh\":30,\n",
    "\"running_sXkm\":datetime.time(5, 30),\n",
    "\"transition_swi2cyc_s\":datetime.time(2, 0),\n",
    "\"transition_cyc2run_s\":datetime.time(2, 0),\n",
    "\"weight_kg\":70\n",
    "})\n",
    "race = trianer.Race(name=\"Elsassman (L)\")\n",
    "simulation = trianer.Triathlon(race=race, athlete=athlete)"
   ]
  },
  {
   "cell_type": "code",
   "execution_count": null,
   "metadata": {},
   "outputs": [],
   "source": [
    "simulation.data.set_index(\"fdistance\")[\"cduration\"].plot()"
   ]
  },
  {
   "cell_type": "code",
   "execution_count": null,
   "metadata": {},
   "outputs": [],
   "source": [
    "simulation.show_race_details(xaxis=\"time day\")\n",
    "simulation.show_race_details(xaxis=\"Time\")\n",
    "simulation.show_race_details(xaxis=\"fdistance\")"
   ]
  },
  {
   "cell_type": "code",
   "execution_count": null,
   "metadata": {},
   "outputs": [],
   "source": [
    "dbszehzqhrz"
   ]
  },
  {
   "cell_type": "code",
   "execution_count": null,
   "metadata": {},
   "outputs": [],
   "source": [
    "simulation.show_roadmap()\n"
   ]
  },
  {
   "cell_type": "code",
   "execution_count": null,
   "metadata": {},
   "outputs": [],
   "source": [
    "# Dataframe to models\n",
    "df_model_properties = pd.DataFrame({\n",
    "    'Model':['linear_t','quad_t','SPPM_t','DPPM_t',\n",
    "             'multlin_th','multquad_th','power_th',\n",
    "             'multlin_tht','multquad_tht',\n",
    "             'multlin_all','multquad_all',\n",
    "             'multcub_all',\n",
    "             'multquart_all'],    \n",
    "    'Features': [['t'],['t'],['t'],['t'],['t','h'],\n",
    "                 ['t','h'],['t','h'],['t','h','T'],\n",
    "                 ['t','h','T'],['t','h','T','A','W','H'],\n",
    "                 ['t','h','T','A','W','G','H'],\n",
    "                 ['t','h','T','A','W','G','H'],\n",
    "                 ['t','h','T','A','W','G','H']],\n",
    "    'Regressors':['linear_t','quad_t','SPPM_t','DPPM_t',\n",
    "             'multlin_th','multquad_th','power_th',\n",
    "             'multlin_tht','multquad_tht',\n",
    "             'multlin_all','multquad_all',\n",
    "             'multcub_all',\n",
    "             'multquart_all']\n",
    "}).set_index('Model')\n",
    "\n",
    "display(df_model_properties)\n",
    "\n",
    "for f in ['MAE_test', 'R2_test', 'MAE_train', 'R2_train']:\n",
    "    df_model_properties[f] = \"\"\n",
    "    "
   ]
  },
  {
   "cell_type": "code",
   "execution_count": null,
   "metadata": {},
   "outputs": [],
   "source": [
    "# Import Calories Dataset\n",
    "df_cal = pd.read_csv('kkcalories/calories.csv')\n",
    "\n",
    "# Import Exercises Dataset\n",
    "df_ex  = pd.read_csv('kkcalories/exercise.csv')\n",
    "\n",
    "# Merging Datasets\n",
    "df = pd.merge(df_ex, df_cal, on = 'User_ID')\n",
    "df.head()\n",
    "\n",
    "# Convert string to int\n",
    "df['Gender'] = pd.get_dummies(df['Gender'], prefix_sep='_', drop_first=True)\n",
    "df = df.drop(columns=['User_ID'], axis=1)\n",
    "\n",
    "display(df.head())\n",
    "\n",
    "x_train, x_test, y_train, y_test = train_test_split(df.drop(columns=[\"Calories\"]), df[\"Calories\"], test_size=0.3)"
   ]
  },
  {
   "cell_type": "code",
   "execution_count": null,
   "metadata": {
    "scrolled": false
   },
   "outputs": [],
   "source": [
    "correlations = df.copy().corr()['Calories']\n",
    "correlations = correlations.sort_values(ascending=False).drop('Calories', axis=0)\n",
    "\n",
    "fig, ax = plt.subplots(figsize=(15, 5), ncols=2, nrows=2)\n",
    "\n",
    "correlations.to_frame().plot.bar(ax=ax[0][0]);\n",
    "sns.histplot(df['Age'], ax=ax[1][0])\n",
    "#sns.displot(x='Gender', y='Calories', data=df, ax=ax[0][1]);\n",
    "\n",
    "sns.jointplot(x='Age', y='Calories', data=df, kind=\"hex\", color=\"#4CB391\")"
   ]
  },
  {
   "cell_type": "markdown",
   "metadata": {},
   "source": [
    "From here, it is possible to see that the features that most contribute to the total calory burned on exercises is the 'duration', the 'heart rate' and the 'body temperature'\n",
    "\n",
    "Let's rename the variables as:\n",
    "\n",
    "t  : Duration\n",
    "h  : Heart_Rate\n",
    "T  : Body_Temp\n",
    "A  : Age\n",
    "W  : Weight\n",
    "G  : Gender\n",
    "H  : Height\n",
    "C  : Calories"
   ]
  },
  {
   "cell_type": "code",
   "execution_count": null,
   "metadata": {},
   "outputs": [],
   "source": [
    "df_3f = df[['Duration','Heart_Rate','Body_Temp','Calories']].copy()\n",
    "df_3f.rename(columns={'Duration':'t',\n",
    "                      'Heart_Rate':'h',\n",
    "                      'Body_Temp':'T',\n",
    "                      'Calories':'C'},inplace=True)\n",
    "\n",
    "\n",
    "df_6f = df[['Duration','Heart_Rate','Body_Temp','Age','Weight','Height','Calories']].copy()\n",
    "df_6f.rename(columns={'Duration':'t',\n",
    "                      'Heart_Rate':'h',\n",
    "                      'Body_Temp':'T',\n",
    "                      'Age':'A',\n",
    "                      'Weight':'W',\n",
    "                      'Height':'H',\n",
    "                      'Calories':'C'},inplace=True)\n",
    "\n",
    "\n",
    "df_7f = df[['Duration','Heart_Rate','Body_Temp','Age','Weight','Gender','Height','Calories']].copy()\n",
    "df_7f.rename(columns={'Duration':'t',\n",
    "                      'Heart_Rate':'h',\n",
    "                      'Body_Temp':'T',\n",
    "                      'Age':'A',\n",
    "                      'Weight':'W',\n",
    "                      'Gender':'G',\n",
    "                      'Height':'H',\n",
    "                      'Calories':'C'},inplace=True)\n",
    "\n",
    "sns.pairplot(df_3f)"
   ]
  },
  {
   "cell_type": "markdown",
   "metadata": {},
   "source": [
    "From the scatter graphics, it's possible to conclude that, despite the strong correlation between the variables  t  and  C , the relation between them is not trivially linear. It's possible that a quadratic regression approach can substantially reduce the errors. Another way to deal with this problem is with power law models. To do this, let's check the relation betweeen logs of variables."
   ]
  },
  {
   "cell_type": "markdown",
   "metadata": {},
   "source": [
    "## One Feature Regression\n",
    "\n",
    "### Linear Model\n",
    "### Quadratic Model\n",
    "### Power Law Models\n",
    "### Model Comparison"
   ]
  },
  {
   "cell_type": "markdown",
   "metadata": {},
   "source": [
    "As a first step, let's calculate the regression relating Calories and Duration, that are the most correlated variables."
   ]
  },
  {
   "cell_type": "code",
   "execution_count": null,
   "metadata": {},
   "outputs": [],
   "source": [
    "from flaml import AutoML\n",
    "automl = AutoML()\n",
    "automl.fit(x_train, y_train, task=\"regression\",metric='rmse', time_budget=300)"
   ]
  },
  {
   "cell_type": "code",
   "execution_count": null,
   "metadata": {
    "scrolled": false
   },
   "outputs": [],
   "source": [
    "from sklearn.tree import DecisionTreeRegressor\n",
    "from sklearn.ensemble import RandomForestRegressor\n",
    "from sklearn.preprocessing import PolynomialFeatures\n",
    "from xgboost import XGBRegressor\n",
    "\n",
    "regressors = [linear_model.LinearRegression(), \n",
    "              RandomForestRegressor(n_estimators=30, random_state=42), \n",
    "              DecisionTreeRegressor(random_state=42), XGBRegressor()]\n",
    "\n",
    "plt.figure(figsize=(10, 5))\n",
    "plt.scatter(df['Duration'], df['Calories'],c='lightgray',label = 'observations',alpha = 0.6, marker='.',zorder=1)\n",
    "plt.xlabel('Duration (min)', size = 18)\n",
    "plt.ylabel('Calories', size = 18); \n",
    "plt.legend(prop={'size': 16})\n",
    "plt.title('Calories burned vs Duration of Exercise', size = 20);\n",
    "\n",
    "for reg in regressors:\n",
    "    # Create a lineat regression object\n",
    "    # reg = linear_model.LinearRegression()\n",
    "\n",
    "    # Train the model using the training sets\n",
    "    reg.fit(x_train, y_train)\n",
    "\n",
    "    # Predictions for the test set\n",
    "    p_test, p_train = reg.predict(x_test), reg.predict(x_train)\n",
    "\n",
    "    mae_test = mean_absolute_error(y_test, p_test)\n",
    "    rmse_test = np.sqrt(metrics.mean_squared_error(y_test, p_test))\n",
    "    r2s_test = r2_score(y_test, p_test)\n",
    "    \n",
    "    mae_train = mean_absolute_error(y_train, p_train)\n",
    "    rmse_train = np.sqrt(metrics.mean_squared_error(y_train, p_train))\n",
    "    r2s_train = r2_score(y_train, p_train)\n",
    "    \n",
    "    # Printing  results\n",
    "    print(f'{type(reg)} me (test): {mae_test:.3f}, R2 (test):  {r2s_test:.3f}, RMSE (test):  {rmse_test:.3f}')\n",
    "    print(f'{type(reg)} me (train): {mae_train:.3f}, R2 (train):  {r2s_train:.3f}, RMSE (train):  {rmse_train:.3f}')\n",
    "\n",
    "    # Plotting and comparing\n",
    "    #plt.plot(np.linspace(t_i.min(), t_i.max(), 100), reg.predict(t_val.reshape(-1,1)), c='tab:red',ls='-.', label = 'Linear Model', lw = 3,zorder=2)"
   ]
  },
  {
   "cell_type": "code",
   "execution_count": null,
   "metadata": {},
   "outputs": [],
   "source": [
    "corr_matrix = df.corr()\n",
    "cmap = sns.diverging_palette(230, 20, as_cmap=True) \n",
    "sns.heatmap(corr_matrix, annot=False ,cmap=cmap)"
   ]
  },
  {
   "cell_type": "code",
   "execution_count": null,
   "metadata": {},
   "outputs": [],
   "source": [
    "from sklearn.preprocessing import MinMaxScaler\n",
    "\n",
    "scl = MinMaxScaler(feature_range = (0, 1))\n",
    "#X = scl.fit_transform(X)\n",
    "#X"
   ]
  },
  {
   "cell_type": "code",
   "execution_count": null,
   "metadata": {},
   "outputs": [],
   "source": [
    "plt.style.use(['dark_background'])\n",
    "fig = plt.figure(figsize=(10, 5),facecolor='b', edgecolor='g')\n",
    "plt.scatter(y_test,p_test ,s=10,c='g',label='Predicted') \n",
    "plt.plot(y_test, y_test,'white' ,label='Test' ,linewidth=2.0)\n",
    "plt.legend(fontsize=20)\n",
    "plt.show()"
   ]
  },
  {
   "cell_type": "code",
   "execution_count": null,
   "metadata": {},
   "outputs": [],
   "source": [
    "print('MAE:', metrics.mean_absolute_error(y_test, p_test))  \n",
    "print('MSE:', metrics.mean_squared_error(y_test, p_test))  \n",
    "print('RMSE:', np.sqrt(metrics.mean_squared_error(y_test, p_test)))\n",
    "print('VarScore:',metrics.explained_variance_score(y_test, p_test))\n",
    "\n",
    "score = reg.score(x_train, y_train)\n",
    "percentage = \"{:.0%}\".format(score)\n",
    "\n",
    "print('Acc_Score:',percentage)"
   ]
  },
  {
   "cell_type": "code",
   "execution_count": null,
   "metadata": {},
   "outputs": [],
   "source": [
    "trianer.hist_calories_per_sport()"
   ]
  },
  {
   "cell_type": "code",
   "execution_count": null,
   "metadata": {},
   "outputs": [],
   "source": [
    "trianer.wordcloud_calories_per_sport()"
   ]
  },
  {
   "cell_type": "code",
   "execution_count": null,
   "metadata": {},
   "outputs": [],
   "source": []
  }
 ],
 "metadata": {
  "celltoolbar": "Aucun(e)",
  "colab": {
   "collapsed_sections": [],
   "name": "Assets.ipynb",
   "provenance": []
  },
  "kernelspec": {
   "display_name": "trianer_py3.10",
   "language": "python",
   "name": "trianer_py3.10"
  },
  "language_info": {
   "codemirror_mode": {
    "name": "ipython",
    "version": 3
   },
   "file_extension": ".py",
   "mimetype": "text/x-python",
   "name": "python",
   "nbconvert_exporter": "python",
   "pygments_lexer": "ipython3",
   "version": "3.10.5"
  }
 },
 "nbformat": 4,
 "nbformat_minor": 4
}
