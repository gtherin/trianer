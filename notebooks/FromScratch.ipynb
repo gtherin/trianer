{
 "cells": [
  {
   "cell_type": "code",
   "execution_count": 1,
   "id": "5fef3a57",
   "metadata": {},
   "outputs": [
    {
     "ename": "SyntaxError",
     "evalue": "invalid syntax (3139761830.py, line 1)",
     "output_type": "error",
     "traceback": [
      "\u001b[0;36m  Input \u001b[0;32mIn [1]\u001b[0;36m\u001b[0m\n\u001b[0;31m    g: gravity accelleration 9.80665 m/s2\u001b[0m\n\u001b[0m               ^\u001b[0m\n\u001b[0;31mSyntaxError\u001b[0m\u001b[0;31m:\u001b[0m invalid syntax\n"
     ]
    }
   ],
   "source": [
    "g = 9.80665#: gravity acceleration 9.80665 m/s2\n",
    "rho = 1027 # : density of the water: 1027 kg/m3\n",
    "Pressure = 101325: 101325 Pa\n",
    "m : mass of the body\n",
    "M : mass of the body + ballast + suit\n",
    "mb : mass of the ballast\n",
    "ms : mass of the suit\n",
    "Vt : volume of the incompressible (liquid and solid part) part of the body\n",
    "Vg : volume of the compressible (gaseous part) part of the body at P0 pressure\n",
    "Vb : volume of the ballast\n",
    "Vs : volume of the suit\n",
    "Vsi : volume of the suit incompressible\n",
    "Vsg : volume of the suit gaseous\n",
    "rhob : density of the ballast (lead) -> 11000 kg/m3\n",
    "rhos : density of the suit -> 100 kg/m3\n",
    "rhon : density of neoprene -> 100 kg/m3"
   ]
  },
  {
   "cell_type": "code",
   "execution_count": 69,
   "id": "3f92c6c3",
   "metadata": {},
   "outputs": [
    {
     "data": {
      "text/plain": [
       "[<matplotlib.lines.Line2D at 0x7f73453ac820>]"
      ]
     },
     "execution_count": 69,
     "metadata": {},
     "output_type": "execute_result"
    },
    {
     "data": {
      "image/png": "[encoded data removed]",
      "text/plain": [
       "<Figure size 432x288 with 1 Axes>"
      ]
     },
     "metadata": {
      "needs_background": "light"
     },
     "output_type": "display_data"
    }
   ],
   "source": [
    "# Earth stuffs\n",
    "g = 9.80665\n",
    "pression_0 = 101325\n",
    "\n",
    "# Solid properties\n",
    "rho_water = 1025\n",
    "\n",
    "# Define suit stuffs\n",
    "rho_neo_i = 1230\n",
    "rho_neo_0 = 170\n",
    "volume_suit_0 = (surface_body:=2) * (suit_thickness_0:= 1.5 / 1000.0)\n",
    "mass_suit = volume_suit_0 * rho_neo_0\n",
    "volume_suit_i = mass_suit / rho_neo_i\n",
    "\n",
    "# Ballast stuffs\n",
    "rho_ballast = 11000\n",
    "mass_ballast = 1\n",
    "volume_ballast = mass_ballast / rho_ballast\n",
    "\n",
    "# Body stuff\n",
    "volume_lungs = 9 / 1000.\n",
    "rho_body = rho_water\n",
    "mass_body = 80\n",
    "volume_body_i = mass_body / rho_body - volume_lungs\n",
    "\n",
    "\n",
    "# Volumes\n",
    "volume_0 = volume_lungs + (volume_suit_gaz := volume_suit_0-volume_suit_i)\n",
    "volume_i = volume_body_i + volume_ballast + volume_suit_i\n",
    "\n",
    "\n",
    "def get_volume_gaz(depth):\n",
    "    # We use the fact that P x volume is a constant\n",
    "    volume_gaz_depth = (pression_0 * volume_0) / (pression_0 + rho_water * g * depth)\n",
    "    return volume_gaz_depth\n",
    "\n",
    "def get_force_archimede(depth):\n",
    "    force_archimede = rho_water * g * (volume_i + get_volume_gaz(depth))\n",
    "    return force_archimede\n",
    "\n",
    "\n",
    "import numpy as np\n",
    "import matplotlib.pyplot as plt\n",
    "\n",
    "depths = np.arange(0, 125)\n",
    "\n",
    "plt.plot(depths, get_volume_gaz(depths))\n",
    "plt.hlines(volume_suit_0, 0, 120)\n",
    "plt.hlines(volume_lungs, 0, 120)\n",
    "\n",
    "\n"
   ]
  },
  {
   "cell_type": "code",
   "execution_count": 71,
   "id": "74383070",
   "metadata": {},
   "outputs": [
    {
     "data": {
      "text/plain": [
       "0.06955432372505543"
      ]
     },
     "execution_count": 71,
     "metadata": {},
     "output_type": "execute_result"
    }
   ],
   "source": [
    "volume_i"
   ]
  },
  {
   "cell_type": "code",
   "execution_count": 70,
   "id": "a59a6d50",
   "metadata": {},
   "outputs": [
    {
     "data": {
      "text/plain": [
       "[<matplotlib.lines.Line2D at 0x7f734548cb50>]"
      ]
     },
     "execution_count": 70,
     "metadata": {},
     "output_type": "execute_result"
    },
    {
     "data": {
      "image/png": "[encoded data removed]",
      "text/plain": [
       "<Figure size 432x288 with 1 Axes>"
      ]
     },
     "metadata": {
      "needs_background": "light"
     },
     "output_type": "display_data"
    }
   ],
   "source": [
    "plt.plot(depths, get_force_archimede(depths))\n"
   ]
  },
  {
   "cell_type": "code",
   "execution_count": 44,
   "id": "2bccb468",
   "metadata": {},
   "outputs": [
    {
     "data": {
      "text/plain": [
       "743.6065573770492"
      ]
     },
     "execution_count": 44,
     "metadata": {},
     "output_type": "execute_result"
    }
   ],
   "source": [
    "# H en  W / K\n",
    "# Need to estimate the energy loss by thermal deperdition\n",
    "power_thermal = (37 - temp_water) / (1. / (conduct_skin:=30) + 1. / (conduct_neo:=40) + 1. / (conduct_water:=70))\n",
    "# Maybe Guillaume Nery is doing some pushs to generate thermal energy\n",
    "\n",
    "\n",
    "#et pour la surface environ 20000cm²\n",
    "\n",
    "power_thermal = surface_body * (37 - (temp_water:=10)) / (1. / (conduct_skin:=30) + 1. / (conduct_neo:=40) + 1. / (conduct_water:=70))\n",
    "power_thermal\n"
   ]
  },
  {
   "cell_type": "code",
   "execution_count": 40,
   "id": "8faf78dc",
   "metadata": {},
   "outputs": [
    {
     "data": {
      "text/plain": [
       "3.0"
      ]
     },
     "execution_count": 40,
     "metadata": {},
     "output_type": "execute_result"
    }
   ],
   "source": [
    "#\n",
    "1000*volume_suit_0#, volume_suit_x\n"
   ]
  },
  {
   "cell_type": "code",
   "execution_count": null,
   "id": "997ff9ab",
   "metadata": {},
   "outputs": [],
   "source": [
    "g = 9.80665\n",
    "P0 = 101325\n",
    "\n",
    "rho = 1025\n",
    "rhob = 11000\n",
    "rhon = 1230\n",
    "rhonf = 170\n",
    "\n",
    "Vs = (surface_body:=2) * (suit_thickness:= 1.5 / 1000.0)\n",
    "ms = rrhonf * Vs\n",
    "\n",
    "# Neoprene suit calculations\n",
    "rhonf = (ms:=Vs * rhonf) / Vs\n",
    "Vsi = ms / rhon\n",
    "Vsg = Vs - Vsi\n",
    "\n",
    "# Mass\n",
    "m, mb, ms = 80, 1, rhonf * Vs\n",
    "M = m + mb + ms"
   ]
  },
  {
   "cell_type": "code",
   "execution_count": 15,
   "id": "f9914e54",
   "metadata": {},
   "outputs": [
    {
     "data": {
      "text/plain": [
       "81.51"
      ]
     },
     "execution_count": 15,
     "metadata": {},
     "output_type": "execute_result"
    }
   ],
   "source": [
    "# Incompressible volume\n",
    "ViT = Vt + Vb + Vsi\n",
    "# mass ratio\n",
    "Ri = (rho*ViT) / M"
   ]
  },
  {
   "cell_type": "code",
   "execution_count": 16,
   "id": "215be70b",
   "metadata": {},
   "outputs": [
    {
     "data": {
      "text/plain": [
       "799.3400415"
      ]
     },
     "execution_count": 16,
     "metadata": {},
     "output_type": "execute_result"
    }
   ],
   "source": [
    "# Gravity force\n",
    "Fw = M * g\n",
    "\n",
    "#Archimede\n",
    "Fa[DD_, M_, ViT_, VgT_] := rho *(ViT + (P0 + V*g*T) / (P0 + rho*g*DD) * g\n"
   ]
  },
  {
   "cell_type": "code",
   "execution_count": null,
   "id": "733745f5",
   "metadata": {},
   "outputs": [],
   "source": []
  }
 ],
 "metadata": {
  "kernelspec": {
   "display_name": "trianer_py3.10",
   "language": "python",
   "name": "trianer_py3.10"
  },
  "language_info": {
   "codemirror_mode": {
    "name": "ipython",
    "version": 3
   },
   "file_extension": ".py",
   "mimetype": "text/x-python",
   "name": "python",
   "nbconvert_exporter": "python",
   "pygments_lexer": "ipython3",
   "version": "3.10.5"
  }
 },
 "nbformat": 4,
 "nbformat_minor": 5
}
