{
 "cells": [
  {
   "cell_type": "code",
   "execution_count": 1,
   "metadata": {
    "slideshow": {
     "slide_type": "skip"
    }
   },
   "outputs": [
    {
     "data": {
      "text/html": [
       "        <script type=\"text/javascript\">\n",
       "        window.PlotlyConfig = {MathJaxConfig: 'local'};\n",
       "        if (window.MathJax && window.MathJax.Hub && window.MathJax.Hub.Config) {window.MathJax.Hub.Config({SVG: {font: \"STIX-Web\"}});}\n",
       "        if (typeof require !== 'undefined') {\n",
       "        require.undef(\"plotly\");\n",
       "        requirejs.config({\n",
       "            paths: {\n",
       "                'plotly': ['https://cdn.plot.ly/plotly-2.12.1.min']\n",
       "            }\n",
       "        });\n",
       "        require(['plotly'], function(Plotly) {\n",
       "            window._Plotly = Plotly;\n",
       "        });\n",
       "        }\n",
       "        </script>\n",
       "        "
      ]
     },
     "metadata": {},
     "output_type": "display_data"
    }
   ],
   "source": [
    "#%%capture\n",
    "\n",
    "import pandas as pd\n",
    "import numpy as np\n",
    "import scipy as sp\n",
    "import plotly\n",
    "import folium\n",
    "import os\n",
    "\n",
    "import plotly.io as pio\n",
    "pio.renderers.default='notebook'\n",
    "\n",
    "from plotly.subplots import make_subplots\n",
    "import plotly.graph_objects as go\n",
    "import matplotlib.pyplot as plt\n",
    "import ipywidgets\n",
    "from IPython.core.display import HTML\n",
    "from IPython.display import display, clear_output\n",
    "import datetime\n",
    "from io import StringIO\n",
    "\n",
    "import trianer\n",
    "\n",
    "plotly.offline.init_notebook_mode(connected=True)\n",
    "\n",
    "%matplotlib inline\n",
    "%reload_ext autoreload\n",
    "%autoreload 2"
   ]
  },
  {
   "cell_type": "markdown",
   "metadata": {},
   "source": [
    "# Average metabolism\n",
    "\n",
    "Human bodies need 3 types of types fuel to survive: \n",
    "- oxygen_2 through breathing\n",
    "- water through drinking\n",
    "- food trhough eating\n",
    "\n",
    "\n",
    "## di-oxygen consumption\n",
    "\n",
    "The quantity of oxygen used by a human on average is 3.5 ml of oxygen_2 per kilogram per minute, which is roughly equivalent to the energy expended when sitting quietly."
   ]
  },
  {
   "cell_type": "code",
   "execution_count": 2,
   "metadata": {},
   "outputs": [
    {
     "name": "stdout",
     "output_type": "stream",
     "text": [
      "Per kg, day: 5040 ml/kg/day, hour: 210 ml/kg/hour, minute: 3.5 ml/kg/min\n",
      "Guillaume, day: 211.7 l/day, hour: 3.53 l/hour, minute: 0.147 l/min\n",
      "Sylvia, day: 196.6 l/day, hour: 3.28 l/hour, minute: 0.137 l/min\n"
     ]
    }
   ],
   "source": [
    "c = 3.5\n",
    "print(f\"Per kg, day: {60*24*c:.0f} ml/kg/day, hour: {60*c:.0f} ml/kg/hour, minute: {c:.1f} ml/kg/min\")\n",
    "\n",
    "age, height, weight, sex, activity = 42, 183, 80, \"M\", 0.7\n",
    "print(f\"Guillaume, day: {60*24*age*c/1000.:.1f} l/day, hour: {24*age*c/1000.:.2f} l/hour, minute: {age*c/1000.:.3f} l/min\")\n",
    "\n",
    "age, height, weight, sex, activity = 39, 169, 65, \"F\", 0.6\n",
    "print(f\"Sylvia, day: {60*24*age*c/1000.:.1f} l/day, hour: {24*age*c/1000.:.2f} l/hour, minute: {age*c/1000.:.3f} l/min\")"
   ]
  },
  {
   "cell_type": "markdown",
   "metadata": {},
   "source": [
    "## Water consumption\n",
    "\n",
    "Water is essential to life. It constitutes the medium in which chemical reactions occur and is crucial to normal function of the cardiovascular system. Water constitutes about 70 percent of body weight in the normal adult. It decreases from 75 percent at birth to 50 percent in old age and is the largest component of the body. Adipose tissue contains less water than lean tissue; thus women have slightly less body water than men. The effects of dehydration occur with as little water loss as 1 percent of body weight and become life threatening at 10 percent (Adolph et al., 1947). Humans cannot adapt to a chronic water deficit, so fluid losses must be replaced if physiological function is to continue unimpaired.\n",
    "\n",
    "| Intake Source | Amount (ml per day) | Source Output | Amount (ml per day) |\n",
    "| --- | --- | --- | --- |\n",
    "| Drinking | 1200 | Urine | 1400 |\n",
    "|Food|\t                        900|\tLungs and skin|\t900|\n",
    "|Oxidation|\t                    300|\tFeces|\t100|\n",
    "|Total|\t                       2400|\tTotal|\t2400|\n",
    "\n",
    "\n",
    "Human water normal consumption is abour 2.4l per day."
   ]
  },
  {
   "cell_type": "code",
   "execution_count": 3,
   "metadata": {},
   "outputs": [
    {
     "name": "stdout",
     "output_type": "stream",
     "text": [
      "Normal water consumption: 2.4 l/day, hour: 100 ml/hour, minute: 1.67 ml/min\n"
     ]
    }
   ],
   "source": [
    "d = 2400\n",
    "print(f\"Normal water consumption: {d/1000.:.1f} l/day, hour: {d/24.:.0f} ml/hour, minute: {d/24./60.:.2f} ml/min\")"
   ]
  },
  {
   "cell_type": "markdown",
   "metadata": {},
   "source": [
    "\n",
    "## Food consumption (calories consumption)\n",
    "\n",
    "Energy in kcal = (4.184 J)\n",
    "\n",
    "The Mifflin St Jeor equation gives the metabolism consumption per day\n",
    "\n",
    "${\\displaystyle P=\\left({\\frac {10.0m}{1~{\\text{kg}}}}+{\\frac {6.25h}{1~{\\text{cm}}}}-{\\frac {5.0a}{1~{\\text{year}}}}+s\\right){\\frac {\\text{kcal}}{\\text{day}}},}$\n",
    "where s is +5 for males and −161 for females.\n",
    "\n",
    "Realized consumption:\n",
    "- Digestion, thermal regulation: +10 %\n",
    "- Posture, daily small activity: +10 %\n",
    "\n",
    "On general, a correction factor has to be applied dependending on activity: \n",
    "- 1.2 no exercice, \n",
    "- 1.375 midly active (1-3 times/week), \n",
    "- 1.55 active (3-5 times/week), \n",
    "- 1.725 very active (6-7 times/week), \n",
    "- 1.9 Hyperactive\n",
    "\n",
    "On considère généralement que les hommes ne devraient pas manger moins de 1500 kcal/j et les femmes 1200 kcal/j sur de longues périodes pour assurer un équilibre entre les principaux nutriments et micronutriments, et prévenir les déficits en vitamines et minéraux."
   ]
  },
  {
   "cell_type": "code",
   "execution_count": 4,
   "metadata": {},
   "outputs": [
    {
     "name": "stdout",
     "output_type": "stream",
     "text": [
      "Guillaume, day: 3033 kcal/day, hour: 126 kcal/hour, minute: 2.106 kcal/min, 1kg: 0.026 kcal/kg/min\n",
      "Sylvia, day: 2250 kcal/day, hour: 94 kcal/hour, minute: 1.563 kcal/min, 1kg: 0.024 kcal/kg/min\n"
     ]
    }
   ],
   "source": [
    "# Activity goes from 0 to 1\n",
    "def get_metabolism_kcal_per_day(age, height, weight, sex, activity, time_unit=\"day\"):\n",
    "    \"\"\"The Mifflin St Jeor equation implementation to get daily metabolism consumption\"\"\"\n",
    "    \n",
    "    # Calculate BMR, metabolism for mo\n",
    "    s = 5 if sex == \"M\" else -161\n",
    "    basal_metabolic_rate = 10 * weight + 6.25 * height -5 * age + s\n",
    "    \n",
    "    # Realized consumption:\n",
    "    # - Digestion, thermal regulation: +10 %\n",
    "    # - Posture, daily small activity: +10 %\n",
    "    # On general, correction factor is: 1.2 no exercice, 1.375 midly active (1-3 times/week), 1.55 active (3-5 times/week), 1.725 very active (6-7 times/week), 1.9 Hyperactive\n",
    "    coeff = np.linspace(1.2, 1.9, 10)[int(activity*10)]\n",
    "    basal_metabolic_rate = coeff*basal_metabolic_rate\n",
    "    \n",
    "    if time_unit == \"hour\":\n",
    "        basal_metabolic_rate /= 24\n",
    "    elif time_unit in [\"minute\", \"min\"]:\n",
    "        basal_metabolic_rate /= (24*60)\n",
    "    \n",
    "    return basal_metabolic_rate\n",
    "\n",
    "age, height, weight, sex, activity = 42, 183, 80, \"M\", 0.7\n",
    "rest_met = get_metabolism_kcal_per_day(age, height, weight, sex, activity)\n",
    "print(f\"Guillaume, day: {rest_met:.0f} kcal/day, hour: {rest_met/24.:.0f} kcal/hour, minute: {rest_met/24./60.:.3f} kcal/min, 1kg: {rest_met/24./60./weight:.3f} kcal/kg/min\")\n",
    "\n",
    "age, height, weight, sex, activity = 39, 169, 65, \"F\", 0.6\n",
    "rest_met = get_metabolism_kcal_per_day(age, height, weight, sex, activity)\n",
    "print(f\"Sylvia, day: {rest_met:.0f} kcal/day, hour: {rest_met/24.:.0f} kcal/hour, minute: {rest_met/24./60.:.3f} kcal/min, 1kg: {rest_met/24./60./weight:.3f} kcal/kg/min\")"
   ]
  },
  {
   "cell_type": "markdown",
   "metadata": {},
   "source": [
    "# Metabolism and sport\n",
    "\n",
    "\n",
    "Burnt calories seem to roughly be proportional to dioxygen consumption during exercice (should be fine in an aerobic regime).\n",
    "\n",
    "$ \\frac{VO_2}{Calories} \\approx 200 ml/kcal/kg/min $ (**No reference found for this 200 factor**).\n",
    "\n",
    "Then, we assume that the measure of dioxygen consumption is a way to estimate energy burnt during an exercice.\n",
    "\n",
    "The metabolic equivalent of task (MET) is the objective measure of the ratio of the rate at which a person expends energy, relative to the mass of that person, while performing some specific physical activity compared to a reference, set by convention at 3.5 mL of oxygen per kilogram per minute, which is roughly equivalent to the energy expended when sitting quietly (40-year-old, 70 kg).\n",
    "\n",
    "\n",
    "## MET\n",
    "\n",
    "$Energy = MET \\cdot \\frac{3.5 \\cdot weight}{200}$\n",
    "\n",
    "A MET of 1 correspond to stay quiet sitting (meditation ?).\n",
    "Comparing this estimation to the one coming from Mifflin St Jeor equation, we roughly get a MET of 1.4-1.5 for a normal day (Sylvia-Guillaume). "
   ]
  },
  {
   "cell_type": "code",
   "execution_count": null,
   "metadata": {},
   "outputs": [],
   "source": []
  },
  {
   "cell_type": "code",
   "execution_count": 9,
   "metadata": {},
   "outputs": [
    {
     "name": "stdout",
     "output_type": "stream",
     "text": [
      "Guillaume, day: 2016 kcal/day, hour: 84 kcal/hour, minute: 1.400 kcal/min, 1kg: 0.018 kcal/kg/min ratio(Mifflin)= 1.50 pow=105 W\n",
      "Sylvia, day: 1638 kcal/day, hour: 68 kcal/hour, minute: 1.137 kcal/min, 1kg: 0.018 kcal/kg/min ratio(Mifflin)= 1.37 pow=96 W\n"
     ]
    }
   ],
   "source": [
    "age, height, weight, sex, activity = 42, 183, 80, \"M\", 0.7\n",
    "rest_met = get_metabolism_kcal_per_day(age, height, weight, sex, activity, time_unit=\"min\")\n",
    "watts = 4184*rest_met/(c*weight/200)/60.\n",
    "print(f\"Guillaume, day: {c*weight/200*60*24:.0f} kcal/day, hour: {c*weight/200*60:.0f} kcal/hour, minute: {c*weight/200:.3f} kcal/min, 1kg: {c/200:.3f} kcal/kg/min ratio(Mifflin)= {rest_met/(c*weight/200):.2f} pow={watts:.0f} W\")\n",
    "\n",
    "\n",
    "age, height, weight, sex, activity = 39, 169, 65, \"F\", 0.6\n",
    "rest_met = get_metabolism_kcal_per_day(age, height, weight, sex, activity, time_unit=\"min\")\n",
    "watts = 4184*rest_met/(c*weight/200)/60.\n",
    "print(f\"Sylvia, day: {c*weight/200*60*24:.0f} kcal/day, hour: {c*weight/200*60:.0f} kcal/hour, minute: {c*weight/200:.3f} kcal/min, 1kg: {c/200:.3f} kcal/kg/min ratio(Mifflin)= {rest_met/(c*weight/200):.2f} pow={watts:.0f} W\")\n"
   ]
  },
  {
   "cell_type": "markdown",
   "metadata": {},
   "source": [
    "## Recommendations\n",
    "\n",
    "The American Heart AssociationTrusted Source recommends at least 150 minutes of moderate-intensity aerobic exercise each week for optimal cardiovascular health. That’s equal to about 500 MET minutes per week, according to the Department of Health and Human ServicesTrusted Source."
   ]
  },
  {
   "cell_type": "code",
   "execution_count": 6,
   "metadata": {},
   "outputs": [
    {
     "data": {
      "text/plain": [
       "<AxesSubplot:>"
      ]
     },
     "execution_count": 6,
     "metadata": {},
     "output_type": "execute_result"
    },
    {
     "data": {
      "image/png": "[encoded data removed]",
      "text/plain": [
       "<Figure size 432x288 with 1 Axes>"
      ]
     },
     "metadata": {
      "needs_background": "light"
     },
     "output_type": "display_data"
    }
   ],
   "source": [
    "temp = np.arange(0, 40)\n",
    "hydr = pd.Series(-np.clip(temp * 100 - 600, 400, 2500), index=temp).to_frame(name=\"hydration\")\n",
    "#hydr*=1.5\n",
    "#sudation=5\n",
    "\n",
    "hydr.plot()"
   ]
  },
  {
   "cell_type": "code",
   "execution_count": 7,
   "metadata": {},
   "outputs": [
    {
     "ename": "SyntaxError",
     "evalue": "invalid character '†' (U+2020) (2827100651.py, line 2)",
     "output_type": "error",
     "traceback": [
      "\u001b[0;36m  Input \u001b[0;32mIn [7]\u001b[0;36m\u001b[0m\n\u001b[0;31m    Subject\tHot-Wet Environment*\tHot-Dry Environment †\tNeutral Environment ‡\u001b[0m\n\u001b[0m           \t                    \t                    ^\u001b[0m\n\u001b[0;31mSyntaxError\u001b[0m\u001b[0;31m:\u001b[0m invalid character '†' (U+2020)\n"
     ]
    }
   ],
   "source": [
    "Sweat Rate (liters per hour)\n",
    "Subject\tHot-Wet Environment*\tHot-Dry Environment †\tNeutral Environment ‡\n",
    "KM\t778\t1247\t178\n",
    "JC\t659\t1198\t302\n",
    "MN\t838\t1234\t272\n",
    "BC\t590\t1159\t265\n",
    "Mean ± SE\t715 ± 56\t1210 ± 20\t254 ± 27"
   ]
  },
  {
   "cell_type": "markdown",
   "metadata": {},
   "source": [
    "# Metabolism\n",
    "\n",
    "\n",
    "### VO2 max measurement\n",
    "\n",
    "Maximum oxygen used in aerobic exercice:\n",
    "https://www.mdapp.co/vo2-max-calculator-for-aerobic-capacity-369/\n",
    "\n",
    "\n",
    "Estimation of V̇O2 max from a timed one-mile track walk incorporating duration in minutes and seconds (t, e.g.: 20:35 would be specified as 20.58), gender, age, body weight in pounds (BW), and heart rate in 10 sec (HR) at the end of the mile.[7] The constant x is 6.3150 for males, 0 for females. BW is in lbs, time is in minutes.\n",
    "\n",
    "$${{{\\dot {V}}O2}}\\max \\approx 132.853-0.0769\\cdot {\\text{BW}}-0.3877\\cdot {\\text{age}}-3.2649t-0.1565\\cdot {\\text{HR}}+x$$\n",
    "\n",
    "V̇O2 = 2.209 + 3.163 speed + 0.000525542 speed3\n",
    "\n",
    "\n",
    "### vVO2 max measurement\n",
    "\n",
    "Maximum oxygen used in aerobic exercice:\n",
    "https://www.mdapp.co/vo2-max-calculator-for-aerobic-capacity-369/\n",
    "\n",
    "\n",
    "### vVO2 max measurement\n",
    "\n",
    "\n",
    "VO2 max based on 1.5 Mile Run / Walk Test\n",
    "This VO2 max test requires an appropriate running location with a measured out distance of exactly 1.5 miles (2414 meters). A stopwatch must be used to record the exact time the distance is covered in. The subject can run and/or walk but the scope of the test is for the subject to cover the distance as fast as they can.\n",
    "\n",
    "VO2 max = 483 / Test completion time (minutes) + 3.5\n",
    "\n",
    "1 MET = 1.162 W/Kg\n",
    "\n",
    "\n",
    "### FTP\n",
    "\n",
    "Average power for 1 hour of bicycle\n",
    "\n",
    "Function Threshold Power (FTP) is a measure of your cycling fitness and ability to maintain a high but manageable power output for a somewhat lengthy duration. From a physiological perspective, it’s the cycling power you produce when your lactate production has risen, leveled off, and then closely matches your body’s ability to remove lactate. This just barely keeps that lactate flooding at bay. In cycling, FTP is that grey area between the power you can sustain for a very long duration, typically an hour, and the fleeting power you can only tolerate for a couple of minutes.\n",
    "\n",
    "\n",
    "20 Minute Test\n",
    "One of the best-known testing methods is a 20-minute test. You’ll ride at your highest sustainable power for 20 minutes. Your FTP is 95% of the average power during this interval. This format can be challenging to pace correctly and is best done when you have fresh legs and a bit of practice.\n",
    "\n",
    "\n",
    "## Energy spent versus energy delivered\n",
    "\n",
    "cycling efficiency:\n",
    "    \n",
    "women had a gross efficiency (GE) of 23.2%, standard deviation 3.5 percentage points. Men had a GE of 21.2%,\n",
    "\n",
    "https://www.researchgate.net/publication/24027428_Efficiency_in_cycling_A_review\n",
    "\n",
    "\n",
    "running efficiency \n",
    "cycling / 5\n",
    "\n",
    "speed/calories\n",
    "\n",
    "\n",
    "\n"
   ]
  },
  {
   "cell_type": "code",
   "execution_count": null,
   "metadata": {},
   "outputs": [],
   "source": [
    "MB = 10*3.5*80/200*60\n",
    "\n",
    "male_women_factor = 1.2"
   ]
  },
  {
   "cell_type": "code",
   "execution_count": null,
   "metadata": {},
   "outputs": [],
   "source": [
    "60*24*7*3.5/1000"
   ]
  },
  {
   "cell_type": "code",
   "execution_count": null,
   "metadata": {},
   "outputs": [],
   "source": [
    "483/2.414"
   ]
  },
  {
   "cell_type": "code",
   "execution_count": null,
   "metadata": {},
   "outputs": [],
   "source": [
    "#VO2_max = 483 / Test completion time (minutes) + 3.5\n",
    "VO2_max = 50\n",
    "pace_km = 200 / (VO2_max - 3.5)\n",
    "speed = 0.3 * (VO2_max - 3.5)\n",
    "\n",
    "print(int(pace_km), 60*(pace_km-int(pace_km)))\n",
    "\n",
    "\n",
    "print(speed)"
   ]
  },
  {
   "cell_type": "code",
   "execution_count": null,
   "metadata": {},
   "outputs": [],
   "source": [
    "6/20"
   ]
  },
  {
   "cell_type": "code",
   "execution_count": null,
   "metadata": {},
   "outputs": [],
   "source": [
    "import matplotlib.image as mpimg\n",
    "\n",
    "fig, axes = plt.subplots(nrows=2, ncols=2, figsize=(15, 5))\n",
    "#fig.subplots_adjust(hspace=0)\n",
    "fig.patch.set_facecolor(\"#cdcdcd\")\n",
    "\n",
    "speed = np.linspace(0.4, 2, 10)\n",
    "\n",
    "df = pd.DataFrame({\"speed\": speed, \"pace\": 100./speed, \"cal\": 0.2*(speed)**3+0.5, \"cal_kcal_h\": 0.2*(speed)**3+0.5*speed*3600/4.184})\n",
    "\n",
    "df.set_index(\"pace\").sort_index()[\"cal_kcal_h\"].plot(ax=axes[0][0])\n",
    "\n",
    "axes[0][1].imshow(mpimg.imread('swimming.png'))\n",
    "\n",
    "df.set_index(\"speed\").sort_index()[\"cal_kcal_h\"].plot(ax=axes[1][1])"
   ]
  },
  {
   "cell_type": "markdown",
   "metadata": {},
   "source": [
    "# R&D"
   ]
  },
  {
   "cell_type": "code",
   "execution_count": null,
   "metadata": {},
   "outputs": [],
   "source": [
    "triaainer.show_kcalories()"
   ]
  },
  {
   "cell_type": "code",
   "execution_count": null,
   "metadata": {
    "scrolled": false
   },
   "outputs": [],
   "source": [
    "trianer.get_kcalories(None).set_index([\"discipline\", \"speed\"])[\"MET 70 kg\"]"
   ]
  },
  {
   "cell_type": "code",
   "execution_count": null,
   "metadata": {},
   "outputs": [],
   "source": [
    "# Impact of \n",
    "import glob\n",
    "\n",
    "fdata = trianer.enrich_data(pd.concat([trianer.get_data(filename=a) for a in glob.glob(\"pace_data/*\") if not \"Course\" in a]))\n",
    "\n",
    "fdata[\"speed\"] = 3600 * (fdata[\"distance\"].diff().ewm(10).mean() / fdata.dtime.diff().dt.seconds).fillna(0.)\n",
    "\n",
    "cdata = fdata[fdata[\"speed\"] > 10]\n",
    "cdata[\"hr\"] = cdata[\"hr\"].astype(float).apply(lambda x: int(5 * round(float(x) / 5)))\n",
    "#cdata[\"slope\"] = cdata[\"slope\"].astype(float).clip(-0.2, 0.2).round(2)#apply(lambda x: int(round(float(x) * 500) / 500))\n",
    "cdata[\"slope\"] = (cdata[\"slope\"].astype(float)*100).clip(-30, 30).apply(lambda x: int(round(float(x) / 3) * 3))\n",
    "\n",
    "cdata = cdata.groupby([\"slope\", \"hr\"]).mean()[\"speed\"].to_frame(\"speed\").reset_index()\n",
    "print(cdata[\"slope\"].unique())\n",
    "\n",
    "import seaborn as sns\n",
    "\n",
    "#sns.lineplot(x=\"hr\", y=\"speed\", hue=\"slope\", data=cdata)\n",
    "\n",
    "\n",
    "#print(cdata.groupby(\"hr\")[\"speed\"].mean())\n",
    "cdata.groupby(\"hr\")[\"speed\"].mean().plot()\n",
    "#sns.plot(cdata)\n",
    "\n",
    "#x = np.arange(-2.5, 15, 0.1)\n",
    "#y = 32-x*1.2\n",
    "#plt.plot(x, y)\n"
   ]
  },
  {
   "cell_type": "code",
   "execution_count": null,
   "metadata": {},
   "outputs": [],
   "source": [
    "temp = np.arange(0, 40)\n",
    "hydr = pd.Series(-np.clip(temp * 100 - 600, 400, 2500), index=temp).to_frame(name=\"hydration\")\n",
    "hydr*=1.5\n",
    "sudation=5\n",
    "\n",
    "hydr.plot()\n"
   ]
  },
  {
   "cell_type": "code",
   "execution_count": null,
   "metadata": {},
   "outputs": [],
   "source": [
    "import glob\n",
    "\n",
    "\n",
    "fdata = triaainer.enrich_data(pd.concat([triaainer.get_data(filename=a) for a in glob.glob(\"pace_data/*\") if \"Course\" in a]))\n",
    "\n",
    "fdata[\"speed\"] = 3600 * (fdata[\"distance\"].diff() / fdata.dtime.diff().dt.seconds).ewm(10).mean().fillna(0.)\n",
    "\n",
    "cdata = fdata[fdata[\"speed\"] > 7]\n",
    "cdata[\"hr\"] = cdata[\"hr\"].astype(float)#.hist()\n",
    "\n",
    "cdata[\"sslope\"] = pd.Series(cdata[\"slope\"]).round()\n",
    "\n",
    "cdata.groupby(\"sslope\").mean()[\"speed\"].plot()\n",
    "x = np.arange(-2.5, 15, 0.1)\n",
    "y = 10-x*0.1\n",
    "plt.plot(x, y)\n"
   ]
  },
  {
   "cell_type": "code",
   "execution_count": null,
   "metadata": {},
   "outputs": [],
   "source": [
    "! ls races"
   ]
  }
 ],
 "metadata": {
  "celltoolbar": "Aucun(e)",
  "colab": {
   "collapsed_sections": [],
   "name": "Assets.ipynb",
   "provenance": []
  },
  "kernelspec": {
   "display_name": "trianer_py3.10",
   "language": "python",
   "name": "trianer_py3.10"
  },
  "language_info": {
   "codemirror_mode": {
    "name": "ipython",
    "version": 3
   },
   "file_extension": ".py",
   "mimetype": "text/x-python",
   "name": "python",
   "nbconvert_exporter": "python",
   "pygments_lexer": "ipython3",
   "version": "3.10.5"
  }
 },
 "nbformat": 4,
 "nbformat_minor": 4
}
